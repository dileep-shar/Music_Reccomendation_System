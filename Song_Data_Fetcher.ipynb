{
 "cells": [
  {
   "cell_type": "code",
   "execution_count": 29,
   "id": "b3edb48c",
   "metadata": {},
   "outputs": [],
   "source": [
    "import os\n",
    "import eyed3\n",
    "import numpy as np\n",
    "import pandas as pd \n",
    "source = \"/home/dileep/ML_Project/recommendation_system/songs\""
   ]
  },
  {
   "cell_type": "code",
   "execution_count": 30,
   "id": "88499e95",
   "metadata": {},
   "outputs": [],
   "source": [
    "fil = []\n",
    "for files in os.walk(source):\n",
    "    fil.append(files)\n",
    "songs = fil[0][2]\n",
    "\n",
    "\n",
    "for i in songs:\n",
    "    song  = eyed3.load(source+'/'+i)\n",
    "    cur = []\n",
    "    cur.append(song.tag.title)\n",
    "    cur.append(song.tag.artist)\n",
    "    cur.append(\"Kannada\")\n",
    "    cur.append(song.tag.album)\n",
    "    cur.append(song.tag.composer)\n",
    "    cur.append(song.tag.release_date)\n",
    "    cur.append(source+'/'+i)\n",
    "    data.append(cur)\n"
   ]
  },
  {
   "cell_type": "code",
   "execution_count": 31,
   "id": "ab8c358f",
   "metadata": {},
   "outputs": [],
   "source": [
    "df = pd.DataFrame(data,columns=[\"Song-Name\", \"Artist\", \"Language\", \"Album\",\"Composer\",\"Release Date\",\"Path \"])"
   ]
  },
  {
   "cell_type": "code",
   "execution_count": 32,
   "id": "0bb1e0ba",
   "metadata": {},
   "outputs": [],
   "source": [
    "data_csv = df.to_csv('song_data.csv',index=True)"
   ]
  },
  {
   "cell_type": "code",
   "execution_count": null,
   "id": "9dfcaf1e",
   "metadata": {},
   "outputs": [],
   "source": []
  }
 ],
 "metadata": {
  "kernelspec": {
   "display_name": "Python 3",
   "language": "python",
   "name": "python3"
  },
  "language_info": {
   "codemirror_mode": {
    "name": "ipython",
    "version": 3
   },
   "file_extension": ".py",
   "mimetype": "text/x-python",
   "name": "python",
   "nbconvert_exporter": "python",
   "pygments_lexer": "ipython3",
   "version": "3.8.10"
  }
 },
 "nbformat": 4,
 "nbformat_minor": 5
}
